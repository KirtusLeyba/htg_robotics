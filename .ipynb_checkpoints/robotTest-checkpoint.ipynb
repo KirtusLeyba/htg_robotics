{
 "cells": [
  {
   "cell_type": "code",
   "execution_count": 1,
   "metadata": {},
   "outputs": [],
   "source": [
    "from HGTrobots import *\n",
    "import numpy as np\n",
    "import matplotlib.pyplot as plt\n",
    "from matplotlib import animation\n",
    "from IPython.display import HTML\n",
    "%matplotlib inline"
   ]
  },
  {
   "cell_type": "code",
   "execution_count": 2,
   "metadata": {},
   "outputs": [],
   "source": [
    "numBots = 10\n",
    "width = 100\n",
    "height = 100\n",
    "maxV = 1.0\n",
    "n = 2\n",
    "robots = []\n",
    "for i in range(numBots):\n",
    "    rx = np.random.randint(0,width)\n",
    "    ry = np.random.randint(0,height)\n",
    "    r = robot(rx, ry, 4.0, n, maxV)\n",
    "    rW = np.random.random((r.s_size,2))-0.5\n",
    "    r.W = rW\n",
    "    robots.append(r)"
   ]
  },
  {
   "cell_type": "code",
   "execution_count": 3,
   "metadata": {},
   "outputs": [
    {
     "ename": "ValueError",
     "evalue": "shapes (12,) and (10,2) not aligned: 12 (dim 0) != 10 (dim 0)",
     "output_type": "error",
     "traceback": [
      "\u001b[0;31m---------------------------------------------------------------------------\u001b[0m",
      "\u001b[0;31mValueError\u001b[0m                                Traceback (most recent call last)",
      "\u001b[0;32m<ipython-input-3-005bc454bb85>\u001b[0m in \u001b[0;36m<module>\u001b[0;34m\u001b[0m\n\u001b[1;32m     21\u001b[0m             \u001b[0;31m# list must be copied to avoid pass-by-reference.\u001b[0m\u001b[0;34m\u001b[0m\u001b[0;34m\u001b[0m\u001b[0;34m\u001b[0m\u001b[0m\n\u001b[1;32m     22\u001b[0m             \u001b[0mrobots\u001b[0m\u001b[0;34m[\u001b[0m\u001b[0mj\u001b[0m\u001b[0;34m]\u001b[0m\u001b[0;34m.\u001b[0m\u001b[0mcalcSense\u001b[0m\u001b[0;34m(\u001b[0m\u001b[0mrobots\u001b[0m\u001b[0;34m[\u001b[0m\u001b[0;34m:\u001b[0m\u001b[0;34m]\u001b[0m\u001b[0;34m)\u001b[0m\u001b[0;34m\u001b[0m\u001b[0;34m\u001b[0m\u001b[0m\n\u001b[0;32m---> 23\u001b[0;31m             \u001b[0mrobots\u001b[0m\u001b[0;34m[\u001b[0m\u001b[0mj\u001b[0m\u001b[0;34m]\u001b[0m\u001b[0;34m.\u001b[0m\u001b[0mcalcAction\u001b[0m\u001b[0;34m(\u001b[0m\u001b[0;34m)\u001b[0m\u001b[0;34m\u001b[0m\u001b[0;34m\u001b[0m\u001b[0m\n\u001b[0m\u001b[1;32m     24\u001b[0m \u001b[0;34m\u001b[0m\u001b[0m\n\u001b[1;32m     25\u001b[0m     \u001b[0;32mif\u001b[0m\u001b[0;34m(\u001b[0m\u001b[0miterCount\u001b[0m \u001b[0;34m<=\u001b[0m \u001b[0;36m0\u001b[0m\u001b[0;34m)\u001b[0m\u001b[0;34m:\u001b[0m\u001b[0;34m\u001b[0m\u001b[0;34m\u001b[0m\u001b[0m\n",
      "\u001b[0;32m~/Documents/Code/Projects/SantaFe/htg_robotics/HGTrobots.py\u001b[0m in \u001b[0;36mcalcAction\u001b[0;34m(self)\u001b[0m\n\u001b[1;32m     51\u001b[0m \u001b[0;34m\u001b[0m\u001b[0m\n\u001b[1;32m     52\u001b[0m         \u001b[0;32mdef\u001b[0m \u001b[0mcalcAction\u001b[0m\u001b[0;34m(\u001b[0m\u001b[0mself\u001b[0m\u001b[0;34m)\u001b[0m\u001b[0;34m:\u001b[0m\u001b[0;34m\u001b[0m\u001b[0;34m\u001b[0m\u001b[0m\n\u001b[0;32m---> 53\u001b[0;31m                 \u001b[0mself\u001b[0m\u001b[0;34m.\u001b[0m\u001b[0ma\u001b[0m \u001b[0;34m=\u001b[0m \u001b[0mnp\u001b[0m\u001b[0;34m.\u001b[0m\u001b[0mdot\u001b[0m\u001b[0;34m(\u001b[0m\u001b[0mself\u001b[0m\u001b[0;34m.\u001b[0m\u001b[0ms\u001b[0m\u001b[0;34m,\u001b[0m \u001b[0mself\u001b[0m\u001b[0;34m.\u001b[0m\u001b[0mW\u001b[0m\u001b[0;34m)\u001b[0m\u001b[0;34m\u001b[0m\u001b[0;34m\u001b[0m\u001b[0m\n\u001b[0m\u001b[1;32m     54\u001b[0m                 \u001b[0;32mtry\u001b[0m\u001b[0;34m:\u001b[0m\u001b[0;34m\u001b[0m\u001b[0;34m\u001b[0m\u001b[0m\n\u001b[1;32m     55\u001b[0m                         \u001b[0mself\u001b[0m\u001b[0;34m.\u001b[0m\u001b[0ma\u001b[0m \u001b[0;34m=\u001b[0m \u001b[0mself\u001b[0m\u001b[0;34m.\u001b[0m\u001b[0mz\u001b[0m\u001b[0;34m/\u001b[0m\u001b[0mnp\u001b[0m\u001b[0;34m.\u001b[0m\u001b[0msqrt\u001b[0m\u001b[0;34m(\u001b[0m\u001b[0mnp\u001b[0m\u001b[0;34m.\u001b[0m\u001b[0msum\u001b[0m\u001b[0;34m(\u001b[0m\u001b[0mself\u001b[0m\u001b[0;34m.\u001b[0m\u001b[0ma\u001b[0m\u001b[0;34m**\u001b[0m\u001b[0;36m2\u001b[0m\u001b[0;34m)\u001b[0m\u001b[0;34m)\u001b[0m\u001b[0;34m\u001b[0m\u001b[0;34m\u001b[0m\u001b[0m\n",
      "\u001b[0;31mValueError\u001b[0m: shapes (12,) and (10,2) not aligned: 12 (dim 0) != 10 (dim 0)"
     ]
    }
   ],
   "source": [
    "#### test simulation\n",
    "xList = []\n",
    "yList = []\n",
    "angleList = []\n",
    "iters = 100\n",
    "itersPerUpdate = 10\n",
    "iterCount = itersPerUpdate\n",
    "for i in range(iters):\n",
    "    x = []\n",
    "    y = []\n",
    "    angles = []\n",
    "    \n",
    "    for j in range(len(robots)):\n",
    "        \n",
    "        x.append(robots[j].x)\n",
    "        y.append(robots[j].y)\n",
    "        angles.append(robots[j].theta)\n",
    "        \n",
    "        robots[j].takeAction()\n",
    "        if(iterCount <= 0):\n",
    "            # list must be copied to avoid pass-by-reference.\n",
    "            robots[j].calcSense(robots[:])\n",
    "            robots[j].calcAction()\n",
    "            \n",
    "    if(iterCount <= 0):\n",
    "        iterCount = itersPerUpdate\n",
    "    \n",
    "    iterCount -= 1\n",
    "    \n",
    "    xList.append(x)\n",
    "    yList.append(y)\n",
    "    angleList.append(angles)"
   ]
  },
  {
   "cell_type": "code",
   "execution_count": null,
   "metadata": {},
   "outputs": [],
   "source": [
    "### animate sim\n",
    "\n",
    "arrowScale = 8.0\n",
    "\n",
    "def update_plot(i, dx, dy, ax, ar, angleList):\n",
    "    \n",
    "    vertices = np.zeros((len(dx[0]), 2))\n",
    "    \n",
    "    for j in range(len(dx[i])):\n",
    "        vertices[j,0] = dx[i][j]\n",
    "        vertices[j,1] = dy[i][j]\n",
    "    \n",
    "    \n",
    "    ax.set_offsets(vertices)\n",
    "    return ax,\n",
    "\n",
    "fig = plt.figure()\n",
    "arrows = []\n",
    "ax = plt.scatter(xList[0], yList[0])\n",
    "\n",
    "ani = animation.FuncAnimation(fig, update_plot, frames=len(xList),\n",
    "                              fargs=(xList, yList, ax, arrows, angleList))\n",
    "plt.show()"
   ]
  },
  {
   "cell_type": "code",
   "execution_count": null,
   "metadata": {},
   "outputs": [],
   "source": [
    "HTML(ani.to_html5_video())"
   ]
  },
  {
   "cell_type": "markdown",
   "metadata": {},
   "source": [
    "### Other animation stats ####"
   ]
  },
  {
   "cell_type": "code",
   "execution_count": null,
   "metadata": {},
   "outputs": [],
   "source": [
    "# just a few robots to find those blips.\n",
    "xListA = np.array(xList)\n",
    "yListA = np.array(yList)\n",
    "angleListA = np.array(angleList)\n",
    "plt.plot(xListA[:, :2], label='x', c='r')\n",
    "plt.plot(yListA[:, :2], label='y', c='g')\n",
    "plt.plot(angleListA[:, :2], label='a', c='b')\n",
    "plt.show()"
   ]
  },
  {
   "cell_type": "markdown",
   "metadata": {},
   "source": [
    "### Live Testing ###"
   ]
  },
  {
   "cell_type": "code",
   "execution_count": null,
   "metadata": {},
   "outputs": [],
   "source": [
    "#### test simulation\n",
    "import time\n",
    "# xList = []\n",
    "# yList = []\n",
    "# angleList = []\n",
    "iters = 20\n",
    "itersPerUpdate = 10\n",
    "iterCount = itersPerUpdate\n",
    "\n",
    "# fig, ax = plt.subplots()\n",
    "# fig = plt.gcf()\n",
    "# fig.show()\n",
    "# fig.canvas.draw()\n",
    "plt.ion()\n",
    "fig, ax = plt.subplots()\n",
    "sc = ax.scatter([], [])\n",
    "plt.xlim(-100, 100)\n",
    "plt.ylim(-100, 100)\n",
    "plt.draw()\n",
    "# ax.hold(True)\n",
    "# plt.show(False)\n",
    "# plt.draw()\n",
    "\n",
    "# plt.show()\n",
    "\n",
    "# axes = plt.gca()\n",
    "# axes.set_xlim(0, 100)\n",
    "# axes.set_ylim(-50, +50)\n",
    "# line = axes.scatter([1], [1])\n",
    "\n",
    "for i in range(iters):\n",
    "    x = []\n",
    "    y = []\n",
    "#     angles = []\n",
    "    \n",
    "    for j in range(len(robots)):\n",
    "        \n",
    "        x.append(robots[j].x)\n",
    "        y.append(robots[j].y)\n",
    "#         angles.append(robots[j].theta)\n",
    "#         plt.scatter(robots[j].x, robots[j].y)\n",
    "    \n",
    "        robots[j].takeAction()\n",
    "        if(iterCount <= 0):\n",
    "            robots[j].calcSense(robots)\n",
    "            robots[j].calcAction()\n",
    "  \n",
    "    sc.set_offsets((np.c_[x,y]))\n",
    "    fig.canvas.draw_idle()\n",
    "#     line.set_xdata(x)\n",
    "#     line.set_ydata(y)\n",
    "#         plt.draw()\n",
    "#     plt.pause(0.05)\n",
    "#     fig.canvas.draw()\n",
    "#     plt.draw()\n",
    "    plt.pause(0.1)\n",
    "#     time.sleep(0.1)\n",
    "            \n",
    "    if(iterCount <= 0):\n",
    "        iterCount = itersPerUpdate\n",
    "    \n",
    "    iterCount -= 1\n",
    "    \n",
    "plt.show()\n",
    "#     xList.append(x)\n",
    "#     yList.append(y)\n",
    "#     angleList.append(angles)"
   ]
  },
  {
   "cell_type": "code",
   "execution_count": null,
   "metadata": {},
   "outputs": [],
   "source": []
  }
 ],
 "metadata": {
  "kernelspec": {
   "display_name": "Python 3",
   "language": "python",
   "name": "python3"
  },
  "language_info": {
   "codemirror_mode": {
    "name": "ipython",
    "version": 3
   },
   "file_extension": ".py",
   "mimetype": "text/x-python",
   "name": "python",
   "nbconvert_exporter": "python",
   "pygments_lexer": "ipython3",
   "version": "3.7.3"
  }
 },
 "nbformat": 4,
 "nbformat_minor": 2
}
